{
 "cells": [
  {
   "cell_type": "markdown",
   "id": "a86f27b3-6746-4fa8-b1b5-10ab3061faf7",
   "metadata": {},
   "source": [
    "# Projeto: Aplicação Web de Visualização de Localizações com APIs\n"
   ]
  },
  {
   "cell_type": "markdown",
   "id": "40a947c9-9e3d-4b72-9dc0-565758e2181b",
   "metadata": {},
   "source": [
    "## 🌍 Parte 1: Aquisição de Dados da API"
   ]
  },
  {
   "cell_type": "markdown",
   "id": "999b7536-6e6e-42f6-b682-b11d14d08795",
   "metadata": {},
   "source": [
    "Este script Python é responsável por popular a base de dados opengeo.sqlite. Ele lê endereços de um ficheiro where.data e, para cada endereço, faz uma chamada à API de geolocalização. Os resultados JSON da API são armazenados na tabela Locations da base de dados. **Muito importante: Os ficheiros where.data e o opengeo.sqlite contêm material proprietário do curso e, por isso, não podem ser incluídos neste repositório público. O script é apresentado aqui para demonstrar a lógica de aquisição e armazenamento de dados.**"
   ]
  },
  {
   "cell_type": "code",
   "execution_count": 48,
   "id": "c286422d-fe6e-48ac-8ee5-93ed04d8db92",
   "metadata": {},
   "outputs": [
    {
     "name": "stdout",
     "output_type": "stream",
     "text": [
      " \n",
      "Retrieving https://py4e-data.dr-chuck.net/opengeo?q=Torre+Eiffel%2C+Paris%2C+Fran%C3%83%C2%A7a\n",
      "Retrieved 1309 characters {\"type\":\"FeatureColl\n",
      " \n",
      "Retrieving https://py4e-data.dr-chuck.net/opengeo?q=Big+Ben%2C+Londres%2C+Reino+Unido\n",
      "Retrieved 1705 characters {\"type\":\"FeatureColl\n",
      " \n",
      "Retrieving https://py4e-data.dr-chuck.net/opengeo?q=Est%C3%83%C2%A1tua+da+Liberdade%2C+Nova+Iorque%2C+EUA\n",
      "Retrieved 1363 characters {\"type\":\"FeatureColl\n"
     ]
    }
   ],
   "source": [
    "import urllib.request,urllib.parse, urllib.error\n",
    "import http\n",
    "import sqlite3\n",
    "import json\n",
    "import time\n",
    "import ssl \n",
    "import sys\n",
    "\n",
    "serviceurl = \"https://py4e-data.dr-chuck.net/opengeo?\"\n",
    "\n",
    "conn = sqlite3.connect (\"opengeo.sqlite\")\n",
    "cur = conn.cursor ()\n",
    "\n",
    "cur.execute (\"\"\"\n",
    "CREATE TABLE IF NOT EXISTS Locations (adress TEXT, geodata TEXT\n",
    ")\n",
    "\"\"\")\n",
    "\n",
    "ctx = ssl.create_default_context ()\n",
    "ctx.check_hostname = False\n",
    "ctx.verify_mode = ssl.CERT_NONE\n",
    "\n",
    "fh = open (r\"C:\\Users\\iness\\py4e\\opengeo\\exemplo_where.data.txt.txt\", \"r\")\n",
    "count = 0\n",
    "notfound = 0\n",
    "for line in fh:\n",
    "    if count > 100:\n",
    "        print (\"Retrieved 100 locations, resart to retrieve more\")\n",
    "        break\n",
    "    adress = line.strip ()\n",
    "    print (\" \")\n",
    "    cur.execute (\"SELECT geodata FROM Locations WHERE adress = ?\",(adress,))\n",
    "    \n",
    "    try: \n",
    "        data = cur.fetchone ()[0]\n",
    "        print (\"Found in db\", adress)\n",
    "        continue\n",
    "    except:\n",
    "        pass\n",
    "    parms = dict ()\n",
    "    parms [\"q\"] = adress\n",
    "    url = serviceurl + urllib.parse.urlencode(parms)\n",
    "    \n",
    "    print (\"Retrieving\",url)\n",
    "    uh = urllib.request.urlopen (url,context = ctx)\n",
    "    data = uh.read ().decode ()\n",
    "    print (\"Retrieved\", len (data), \"characters\", data [:20].replace (\"\\n\", \" \"))\n",
    "    count = count + 1 \n",
    "    \n",
    "    try:\n",
    "        js = json.loads (data)\n",
    "    except:\n",
    "        print (data)\n",
    "        continue\n",
    "    if not js or \"features\" not in js:\n",
    "        print (\"==Download error ==\")\n",
    "        print (data)\n",
    "        break\n",
    "    if len (js [\"features\"]) == 0:\n",
    "        print (\"==Objevt not found ==\")\n",
    "        notfound = notfound + 1\n",
    "        \n",
    "    cur.execute(\"\"\"INSERT INTO Locations (adress, geodata) VALUES (?, ?)\"\"\", (adress, data))\n",
    "    conn.commit ()\n",
    "    \n",
    "    if count % 10 == 0:\n",
    "        print (\"Pausing\")\n",
    "if notfound >0:\n",
    "    print (\"Number of features for which the location could not be found\", notfound)\n"
   ]
  },
  {
   "cell_type": "markdown",
   "id": "71bf41bc-364c-4ae2-8baa-0e8066e2fb59",
   "metadata": {},
   "source": [
    "## ⚙️ Parte 2: Processamento de Dados e Geração de Ficheiro para Frontend"
   ]
  },
  {
   "cell_type": "markdown",
   "id": "f0f80939-a1e3-4597-ae6d-c8eb7419e238",
   "metadata": {},
   "source": [
    "Este script lê os dados brutos da base de dados opengeo.sqlite e extrai a latitude, longitude e o endereço formatado dos dados JSON. Ele formata esses dados num array JavaScript (myData) e escreve-o para where.js, que é consumido pela interface web. Este script pode ser executado após a execução do script de aquisição de dados (Parte 1), usando o opengeo.sqlite gerado a partir do exemplo_where.data."
   ]
  },
  {
   "cell_type": "code",
   "execution_count": 50,
   "id": "daa946a8-a2e4-45f2-9633-4ad85bbf07f8",
   "metadata": {},
   "outputs": [
    {
     "name": "stdout",
     "output_type": "stream",
     "text": [
      "Torre Eiffel, 28859 Torrejón De Ardoz, Spain 40.439687 -3.459808\n",
      "Big Ben Fisheries, 9-13 Broadway, London, W13 9DA, United Kingdom 51.5103183 -0.3225142\n",
      "New York, NY, United States of America 40.68295 -73.9708\n"
     ]
    }
   ],
   "source": [
    "import sqlite3\n",
    "import json\n",
    "import codecs\n",
    "\n",
    "conn = sqlite3.connect (\"opengeo.sqlite\")\n",
    "cur = conn.cursor ()\n",
    "\n",
    "cur.execute (\"SELECT * FROM Locations\")\n",
    "fhnd = codecs.open (\"where.js\", \"w\", \"utf-8\")\n",
    "fhnd.write (\"myData = [\\n\")\n",
    "count = 0\n",
    "for row in cur:\n",
    "    data = str (row[1])\n",
    "    try: \n",
    "        js = json.loads (str(data))\n",
    "    except:\n",
    "        continue\n",
    "    if len (js [\"features\"]) == 0:\n",
    "        continue\n",
    "        \n",
    "    try:\n",
    "        lat = js [\"features\"][0][\"geometry\"][\"coordinates\"][1]\n",
    "        lng = js [\"features\"][0][\"geometry\"][\"coordinates\"][0]\n",
    "        where = js [\"features\"][0][\"properties\"][\"formatted\"]\n",
    "        where = where.replace (\"'\", \" \")\n",
    "    except:\n",
    "        print (\"Unexpected format\")\n",
    "        print (js)\n",
    "    try:\n",
    "        print (where, lat, lng)\n",
    "        count = count + 1 \n",
    "        if count >1:\n",
    "            fhnd.write (\",\\n\")\n",
    "            output = \"[\"+str(lat)+\",\"+str(lng)+\", '\"+where+\"']\"\n",
    "            fhnd.write (output)\n",
    "    except: \n",
    "        continue\n",
    "fhnd.write(\"\\n];\\n\")\n",
    "cur.close()\n",
    "fhnd.close()"
   ]
  },
  {
   "cell_type": "code",
   "execution_count": 40,
   "id": "13a11465-0e5f-4be9-953b-b5f9a0099f5e",
   "metadata": {},
   "outputs": [
    {
     "name": "stdout",
     "output_type": "stream",
     "text": [
      "Existe 'opengeo.sqlite'? True\n",
      "Existe 'where.js'? True\n",
      "Conteúdo da pasta atual: ['.anaconda', '.conda', '.condarc', '.continuum', '.idlerc', '.ipynb_checkpoints', '.ipython', '.jme3', '.jupyter', '.matplotlib', '.Origin', '.poreidcache', '.QtWebEngineProcess', '.spss', '.virtual_documents', '3-1.2ExcecptionHandling.ipynb', '3D Objects', 'amd.json', 'anaconda3', 'anaconda_projects', 'AppData', 'apple.json', 'Application Data', 'bamboo_train_tree.dot', 'bamboo_tree.dot', 'BrawlhallaReplays', 'Contacts', 'Cookies', 'Creative Cloud Files Personal Account inessantos2001@gmail.com 898374095E95BDFE0A495FD5@AdobeID', 'DataScienceEcosystem.ipynb.ipynb', 'Definições Locais', 'Documents', 'dog.jpg', 'Downloads', 'Dropbox', 'DS0103EN-Exercise-From-Modeling-to-Evaluation.ipynb', 'DS0103EN-Exercise-From-Understanding-to-Preparation.ipynb', 'DS0103EN-Review-From-Requirements-to-Collection (1).ipynb', 'EEG.ipynb', 'Evernote', 'example.txt', 'example1.txt', 'Example2.txt', 'Example3.txt', 'Favorites', 'Final Assignment Webscraping-v2.ipynb', 'Final-Assignment Library-v2.ipynb', 'Golden_State.pkl', 'hello.py', 'hi.py', 'image.png', 'inactive.txt', 'IntelGraphicsProfiles', 'kXsMqkKk330LO2Gz1vC4Vg.ipynb', 'labs_module 1_Web Scraping_Web-Scraping-Review-Lab.ipynb', 'Largest_economies.csv', 'Links', 'members.txt', 'Menu Iniciar', 'MicrosoftEdgeBackups', 'Modelos', 'Music', 'NetHood', 'new_sample.xml', 'NTUSER.DAT', 'ntuser.dat.LOG1', 'ntuser.dat.LOG2', 'NTUSER.DAT{2ad838bc-efea-11ee-a54d-000d3a94eaa1}.TM.blf', 'NTUSER.DAT{2ad838bc-efea-11ee-a54d-000d3a94eaa1}.TMContainer00000000000000000001.regtrans-ms', 'NTUSER.DAT{2ad838bc-efea-11ee-a54d-000d3a94eaa1}.TMContainer00000000000000000002.regtrans-ms', 'ntuser.ini', 'Omeu1codigo.ipynb', 'OneDrive', 'opengeo.sqlite', 'Os Meus Documentos', 'Pandas_Practice.ipynb', 'person.json', 'Pictures', 'practice-project-v2.ipynb', 'PrintHood', 'Projeto_Localizacoes_com_APIs.ipynb.ipynb', 'PY0101EN-2-1-Tuples.ipynb', 'PY0101EN-2-2-Lists.ipynb', 'PY0101EN-2-3-Sets.ipynb', 'PY0101EN-2-4-Dictionaries-20230526-1685059200.jupyterlite.ipynb', 'PY0101EN-3-1-Conditions.ipynb', 'PY0101EN-3-2-Loops.ipynb', 'PY0101EN-3-3-Functions-v2.ipynb', 'PY0101EN-3-4-Classes.ipynb', 'PY0101EN-3-5-Practice_lab-20230526-1685059200.jupyterlite.ipynb', 'PY0101EN-4-1-ReadFile.ipynb', 'PY0101EN-4-2-WriteFile.ipynb', 'PY0101EN-4-3-LoadData-20230424-1682294400.jupyterlite.ipynb', 'PY0101EN-5-1-Numpy1D.ipynb', 'PY0101EN-5.1_Intro_API.ipynb', 'PY0101EN-5.2_API_2.v2.ipynb', 'PY0101EN-5.3_Requests_HTTP.ipynb', 'PY0101EN-5.ipynb', 'py4e', 'Recent', 'Sample-employee-XML-file.xml', 'sample.json', 'sample.xlsx', 'Saved Games', 'Searches', 'SendTo', 'sleep-edf-project', 'Untitled Folder', 'Untitled Folder 1', 'Untitled Folder 2', 'Untitled Folder 3', 'Untitled Folder 4', 'Untitled Folder 5', 'Untitled.ipynb', 'Untitled1.ipynb', 'Untitled2.ipynb', 'Untitled3.ipynb', 'Untitled4.ipynb', 'Untitled5.ipynb', 'Untitled6.ipynb', 'Untitled7.ipynb', 'vDOxZD2HCLKVZICBDiI55w.ipynb', 'Videos', 'where.js']\n"
     ]
    }
   ],
   "source": [
    "import os\n",
    "\n",
    "print(f\"Existe 'opengeo.sqlite'? {os.path.exists('opengeo.sqlite')}\")\n",
    "print(f\"Existe 'where.js'? {os.path.exists('where.js')}\")\n",
    "print(f\"Conteúdo da pasta atual: {os.listdir('.')}\")"
   ]
  },
  {
   "cell_type": "code",
   "execution_count": null,
   "id": "f5c79b87-ee5d-4393-a39f-a7da75eaac5f",
   "metadata": {},
   "outputs": [],
   "source": []
  }
 ],
 "metadata": {
  "kernelspec": {
   "display_name": "Python [conda env:base] *",
   "language": "python",
   "name": "conda-base-py"
  },
  "language_info": {
   "codemirror_mode": {
    "name": "ipython",
    "version": 3
   },
   "file_extension": ".py",
   "mimetype": "text/x-python",
   "name": "python",
   "nbconvert_exporter": "python",
   "pygments_lexer": "ipython3",
   "version": "3.12.7"
  }
 },
 "nbformat": 4,
 "nbformat_minor": 5
}
